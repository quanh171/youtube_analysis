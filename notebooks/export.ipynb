{
 "cells": [
  {
   "cell_type": "code",
   "execution_count": 8,
   "id": "0ae6eee2",
   "metadata": {},
   "outputs": [],
   "source": [
    "import pandas as pd\n",
    "import sqlalchemy\n",
    "import re\n",
    "from sqlalchemy import text"
   ]
  },
  {
   "cell_type": "code",
   "execution_count": 3,
   "id": "eb44f81d",
   "metadata": {},
   "outputs": [
    {
     "name": "stdout",
     "output_type": "stream",
     "text": [
      "Requirement already satisfied: pymysql in c:\\users\\quan1\\anaconda3\\lib\\site-packages (1.1.2)\n"
     ]
    }
   ],
   "source": [
    "!pip install pymysql"
   ]
  },
  {
   "cell_type": "code",
   "execution_count": null,
   "id": "2c4f7461",
   "metadata": {},
   "outputs": [],
   "source": [
    "# ---- DB connection ----\n",
    "USER = \"...\"\n",
    "PASS = \"...\"\n",
    "HOST = \"...\"\n",
    "PORT = ...\n",
    "DB   = \"youtube_analytics\"\n",
    "\n",
    "engine = sqlalchemy.create_engine(\n",
    "    f\"mysql+pymysql://{USER}:{PASS}@{HOST}:{PORT}/{DB}?charset=utf8mb4\"\n",
    ")"
   ]
  },
  {
   "cell_type": "code",
   "execution_count": null,
   "id": "9472b19e",
   "metadata": {},
   "outputs": [],
   "source": [
    "# ---- What to export----\n",
    "TABLES = [\n",
    "    \"channel_data\",\n",
    "    \"video_data\",\n",
    "]\n",
    "VIEWS = [\n",
    "    \"vw_corr_pearson\",\n",
    "    \"vw_monthly_kpis\",\n",
    "    \"vw_top15_by_engagement\",\n",
    "    \"vw_top15_by_views\",\n",
    "    \"vw_top_categories\",\n",
    "    \"vw_video_metrics\",\n",
    "    \"vw_video_type_summary\",\n",
    "]\n",
    "\n",
    "OBJECTS = [(\"table\", t) for t in TABLES] + [(\"view\", v) for v in VIEWS]"
   ]
  },
  {
   "cell_type": "code",
   "execution_count": null,
   "id": "37be8560",
   "metadata": {},
   "outputs": [],
   "source": [
    "# ---- Helpers ----\n",
    "def sanitize_sheet_name(name: str) -> str:\n",
    "    name = re.sub(r'[:\\\\/?*\\[\\]]', '-', name)\n",
    "    return name[:31] or \"sheet\"\n",
    "\n",
    "def fetch_all(conn, obj_name: str) -> pd.DataFrame:\n",
    "    return pd.read_sql(text(f\"SELECT * FROM `{obj_name}`\"), conn)"
   ]
  },
  {
   "cell_type": "code",
   "execution_count": null,
   "id": "cdf60b1e",
   "metadata": {},
   "outputs": [
    {
     "name": "stdout",
     "output_type": "stream",
     "text": [
      "✓ Wrote table: channel_data  →  sheet: channel_data  (rows: 1)\n",
      "✓ Wrote table: video_data  →  sheet: video_data  (rows: 601)\n",
      "✓ Wrote view: vw_corr_pearson  →  sheet: vw_corr_pearson  (rows: 5)\n",
      "✓ Wrote view: vw_monthly_kpis  →  sheet: vw_monthly_kpis  (rows: 130)\n",
      "✓ Wrote view: vw_top15_by_engagement  →  sheet: vw_top15_by_engagement  (rows: 15)\n",
      "✓ Wrote view: vw_top15_by_views  →  sheet: vw_top15_by_views  (rows: 15)\n",
      "✓ Wrote view: vw_top_categories  →  sheet: vw_top_categories  (rows: 5)\n",
      "✓ Wrote view: vw_video_metrics  →  sheet: vw_video_metrics  (rows: 601)\n",
      "✓ Wrote view: vw_video_type_summary  →  sheet: vw_video_type_summary  (rows: 3)\n",
      "\n",
      "Done. Excel saved to: youtube_analytics_export.xlsx\n"
     ]
    }
   ],
   "source": [
    "# ---- Export to a single .xlsx ----\n",
    "outfile = \"youtube_analytics_export.xlsx\"\n",
    "\n",
    "with engine.begin() as conn, pd.ExcelWriter(outfile, engine=\"openpyxl\") as writer:\n",
    "    written = []\n",
    "    for kind, name in OBJECTS:\n",
    "        try:\n",
    "            df = fetch_all(conn, name)\n",
    "            sheet = sanitize_sheet_name(name)\n",
    "            orig_sheet = sheet\n",
    "            suffix = 2\n",
    "            while sheet in written:\n",
    "                sheet = sanitize_sheet_name(f\"{orig_sheet}_{suffix}\")\n",
    "                suffix += 1\n",
    "            df.to_excel(writer, index=False, sheet_name=sheet)\n",
    "            written.append(sheet)\n",
    "            print(f\"✓ Wrote {kind}: {name}  →  sheet: {sheet}  (rows: {len(df)})\")\n",
    "        except Exception as e:\n",
    "            print(f\"⚠ Skipped {kind}: {name}  (error: {e})\")\n",
    "\n",
    "print(f\"\\nDone. Excel saved to: {outfile}\")"
   ]
  }
 ],
 "metadata": {
  "kernelspec": {
   "display_name": "base",
   "language": "python",
   "name": "python3"
  },
  "language_info": {
   "codemirror_mode": {
    "name": "ipython",
    "version": 3
   },
   "file_extension": ".py",
   "mimetype": "text/x-python",
   "name": "python",
   "nbconvert_exporter": "python",
   "pygments_lexer": "ipython3",
   "version": "3.13.5"
  }
 },
 "nbformat": 4,
 "nbformat_minor": 5
}
